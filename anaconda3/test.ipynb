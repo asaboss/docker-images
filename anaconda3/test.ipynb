{
 "cells": [
  {
   "cell_type": "code",
   "execution_count": 1,
   "metadata": {
    "collapsed": false
   },
   "outputs": [
    {
     "data": {
      "text/plain": [
       "'2.7.12 |Continuum Analytics, Inc.| (default, Jul  2 2016, 17:42:40) \\n[GCC 4.4.7 20120313 (Red Hat 4.4.7-1)]'"
      ]
     },
     "execution_count": 1,
     "metadata": {},
     "output_type": "execute_result"
    }
   ],
   "source": [
    "import sys\n",
    "sys.version"
   ]
  },
  {
   "cell_type": "code",
   "execution_count": 1,
   "metadata": {
    "collapsed": false
   },
   "outputs": [
    {
     "data": {
      "text/plain": [
       "'3.5.2 |Anaconda 4.1.1 (64-bit)| (default, Jul  2 2016, 17:53:06) \\n[GCC 4.4.7 20120313 (Red Hat 4.4.7-1)]'"
      ]
     },
     "execution_count": 1,
     "metadata": {},
     "output_type": "execute_result"
    }
   ],
   "source": [
    "import sys\n",
    "sys.version"
   ]
  },
  {
   "cell_type": "code",
   "execution_count": 1,
   "metadata": {
    "collapsed": false
   },
   "outputs": [
    {
     "name": "stdout",
     "output_type": "stream",
     "text": [
      "USER       PID %CPU %MEM    VSZ   RSS TTY      STAT START   TIME COMMAND\n",
      "root         1  0.0  0.0   4216    80 ?        Ss   02:07   0:00 /usr/bin/tini -\n",
      "root         5  0.0  0.0  21940   500 ?        S    02:07   0:00 /bin/bash\n",
      "root         6  0.3  5.7 346520 43752 ?        Sl+  02:08   0:04 /opt/conda/bin/\n",
      "root       200  0.0  0.2  21960  2276 ?        Ss+  02:19   0:00 /bin/bash\n",
      "root       610 22.3  4.3 554164 32752 ?        Ssl  02:33   0:00 /opt/conda/bin/\n",
      "root       619  4.0  0.2  21928  2028 pts/0    Ss   02:33   0:00 /bin/bash\n",
      "root       623  0.0  0.1  19180  1300 pts/0    R+   02:33   0:00 ps -aux\n"
     ]
    },
    {
     "data": {
      "text/plain": [
       "USER       PID %CPU %MEM    VSZ   RSS TTY      STAT START   TIME COMMAND\r",
       "root         1  0.0  0.0   4216    80 ?        Ss   02:07   0:00 /usr/bin/tini -\r",
       "root         5  0.0  0.0  21940   500 ?        S    02:07   0:00 /bin/bash\r",
       "root         6  0.3  5.7 346520 43752 ?        Sl+  02:08   0:04 /opt/conda/bin/\r",
       "root       200  0.0  0.2  21960  2276 ?        Ss+  02:19   0:00 /bin/bash\r",
       "root       610 22.3  4.3 554164 32752 ?        Ssl  02:33   0:00 /opt/conda/bin/\r",
       "root       619  4.0  0.2  21928  2028 pts/0    Ss   02:33   0:00 /bin/bash\r",
       "root       623  0.0  0.1  19180  1300 pts/0    R+   02:33   0:00 ps -aux"
      ]
     },
     "execution_count": 1,
     "metadata": {},
     "output_type": "execute_result"
    }
   ],
   "source": [
    "ps -aux"
   ]
  },
  {
   "cell_type": "code",
   "execution_count": 2,
   "metadata": {
    "collapsed": false
   },
   "outputs": [
    {
     "data": {
      "text/plain": [
       "'sha1:189ab089e50b:56e8bf072e6a2df681337bb631c6d5206dd5bd59'"
      ]
     },
     "execution_count": 2,
     "metadata": {},
     "output_type": "execute_result"
    }
   ],
   "source": [
    "from notebook.auth import passwd\n",
    "passwd(\"jupyterpwd\")"
   ]
  }
 ],
 "metadata": {
  "anaconda-cloud": {},
  "kernelspec": {
   "display_name": "Python [Root]",
   "language": "python",
   "name": "Python [Root]"
  },
  "language_info": {
   "codemirror_mode": {
    "name": "ipython",
    "version": 3
   },
   "file_extension": ".py",
   "mimetype": "text/x-python",
   "name": "python",
   "nbconvert_exporter": "python",
   "pygments_lexer": "ipython3",
   "version": "3.5.2"
  }
 },
 "nbformat": 4,
 "nbformat_minor": 0
}

